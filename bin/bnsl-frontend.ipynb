{
 "cells": [
  {
   "cell_type": "markdown",
   "metadata": {
    "extensions": {
     "jupyter_dashboards": {
      "version": 1,
      "views": {
       "grid_default": {
        "col": 0,
        "height": 4,
        "hidden": true,
        "row": 72,
        "width": 4
       },
       "report_default": {}
      }
     }
    }
   },
   "source": [
    "# Table of Contents\n"
   ]
  },
  {
   "cell_type": "code",
   "execution_count": null,
   "metadata": {
    "extensions": {
     "jupyter_dashboards": {
      "version": 1,
      "views": {
       "grid_default": {
        "hidden": true
       },
       "report_default": {
        "hidden": true
       }
      }
     }
    }
   },
   "outputs": [],
   "source": [
    "%matplotlib notebook\n",
    "from mpl_toolkits.mplot3d import Axes3D\n",
    "import matplotlib.pyplot as plt\n",
    "#plt.style.use('ggplot')\n",
    "import ipywidgets as widgets\n",
    "import sys, os, io, string, shutil, math\n",
    "from hublib.ui import Submit\n",
    "from hublib.ui import RunCommand\n",
    "import hublib.use\n",
    "%use boost-1.62.0-mpich2-1.3-gnu-4.7.2\n",
    "%use lammps-31Mar17\n",
    "#%set_env OMP_NUM_THREADS=4\n",
    "import numpy as np\n",
    "import re\n",
    "import time\n",
    "from threading import Thread\n",
    "from io import StringIO\n",
    "from ipywidgets import Layout, Box, Label, Output\n",
    "from IPython.display import display,HTML\n",
    "#sys.path.append('../python/')\n",
    "#import train as nn\n",
    "import random\n",
    "#from IPython.core.display import display, HTML\n",
    "display(HTML(\"<style>.container { width:1450px !important; }</style>\"))\n",
    "\n",
    "style = {'description_width': 'initial'}\n",
    "\n",
    "left_column='340px'\n",
    "right_column='940px'\n",
    "app_width='1280px'\n",
    "\n",
    "form_item_layout = Layout(\n",
    "    display='flex',\n",
    "    flex_flow='row',\n",
    "    justify_content='space-between',\n",
    "    padding='5px'\n",
    ")\n",
    "\n",
    "form_item_layout_slider_text = Layout(\n",
    "    display='flex',\n",
    "    flex_flow='row',\n",
    "    justify_content='space-between',\n",
    "    padding='5px'\n",
    ")\n",
    "\n",
    "box_layout_image=Layout(\n",
    "    display='flex',\n",
    "    flex_flow='column',\n",
    "    border='solid 1px',\n",
    "    align_items='stretch',\n",
    "    #width='25%',\n",
    "    padding='5px',\n",
    "    #min_height='20px',\n",
    "    #min_width='200px'\n",
    "    width=left_column,\n",
    "    height='304.5px'\n",
    ")\n",
    "box_layout_phisical=Layout(\n",
    "    display='flex',\n",
    "    flex_flow='column',\n",
    "    border='solid 1px',\n",
    "    align_items='stretch',\n",
    "    #width='25%',\n",
    "    padding='5px',\n",
    "    #min_height='20px',\n",
    "    #min_width='200px'\n",
    "    width=left_column,\n",
    "    #height='180px'\n",
    ")\n",
    "box_layout_computing=Layout(\n",
    "    display='flex',\n",
    "    flex_flow='column',\n",
    "    border='solid 1px',\n",
    "    align_items='stretch',\n",
    "    padding='5px',\n",
    "    width=left_column,\n",
    "    #height='103px'\n",
    ")\n",
    "box_layout_progress=Layout(\n",
    "    display='flex',\n",
    "    flex_flow='column',\n",
    "    border='solid 1px',\n",
    "    align_items='stretch',\n",
    "    padding='5px',\n",
    "    width=left_column,\n",
    "    ##height='55px'\n",
    ")\n",
    "\n",
    "box_layout_output=Layout(\n",
    "    display='flex',\n",
    "    flex_flow='column',\n",
    "    border='solid 1px',\n",
    "    align_items='stretch',\n",
    "    padding='5px',\n",
    "    width=left_column,\n",
    "    #height='150px'\n",
    ")\n",
    "box_layout_about=Layout(\n",
    "    display='flex',\n",
    "    flex_flow='column',\n",
    "    border='solid 1px',\n",
    "    align_items='stretch',\n",
    "    padding='5px',\n",
    "    width=right_column,\n",
    "    #height='136px'\n",
    ")\n",
    "form_item_layout_tab = Layout(\n",
    "    display='flex',\n",
    "    flex_flow='column',\n",
    "    align_items='stretch',\n",
    "    justify_content='space-between',\n",
    "    padding='5px'\n",
    ")\n",
    "\n",
    "box_layout_tabs=Layout(\n",
    "    display='flex',\n",
    "    flex_flow='column',\n",
    "    border='solid 1px',\n",
    "    align_items='stretch',\n",
    "    padding='5px',\n",
    "    width=right_column,\n",
    "    height='100%'\n",
    ")\n",
    "\n",
    "button_hide_layout=Layout(\n",
    "    visibility='hidden', #visible/hidden\n",
    "    padding='5px',\n",
    "    \n",
    ")\n",
    "button_show_layout=Layout(\n",
    "    visibility='visible', #visible/hidden\n",
    "    padding='5px',\n",
    "    \n",
    ")\n"
   ]
  },
  {
   "cell_type": "code",
   "execution_count": null,
   "metadata": {},
   "outputs": [],
   "source": [
    "'''\n",
    "CSS = \"\"\"\n",
    ".output {\n",
    "    align-items: center;\n",
    "}\n",
    "div.output_area {\n",
    "    width: 100%;\n",
    "}\n",
    "div.output_area {\n",
    "    left-padding: 60px;\n",
    "}\n",
    "\"\"\"\n",
    "display(HTML('<style>{}</style>'.format(CSS)))\n",
    "\n",
    "'''\n",
    "\n",
    "js_custom=\"\"\"<script>\n",
    "$('#appmode-leave').hide();                          // Hides the edit app button.\n",
    "$('#appmode-busy').hide();                           // Hides the kernel busy indicator.\n",
    "</script>\n",
    "\"\"\"\n",
    "\n",
    "display(HTML(js_custom))"
   ]
  },
  {
   "cell_type": "code",
   "execution_count": null,
   "metadata": {},
   "outputs": [],
   "source": [
    "%%capture\n",
    "# This hides any output from this cell\n",
    "%set_env OMP_NUM_THREADS=4"
   ]
  },
  {
   "cell_type": "code",
   "execution_count": null,
   "metadata": {
    "extensions": {
     "jupyter_dashboards": {
      "version": 1,
      "views": {
       "grid_default": {
        "col": 0,
        "height": 4,
        "hidden": true,
        "row": 66,
        "width": 4
       },
       "report_default": {}
      }
     }
    }
   },
   "outputs": [],
   "source": [
    "%%html\n",
    "<style>\n",
    ".jupyter-widgets.widget-tab > .p-TabBar .p-TabBar-tab {\n",
    "    flex: 0 1 175px\n",
    "}\n",
    "</style>"
   ]
  },
  {
   "cell_type": "code",
   "execution_count": null,
   "metadata": {
    "extensions": {
     "jupyter_dashboards": {
      "version": 1,
      "views": {
       "grid_default": {
        "col": 0,
        "height": 2,
        "hidden": true,
        "row": 29,
        "width": 4
       },
       "report_default": {
        "hidden": false
       }
      }
     }
    }
   },
   "outputs": [],
   "source": [
    "# npCharge = widgets.BoundedIntText(\n",
    "#     value=-1000,\n",
    "#     min=-1500,\n",
    "#     max=-500,\n",
    "#     step=1,\n",
    "#     description='NP Charge (Q in e)',\n",
    "#     style=style,\n",
    "# )\n",
    "\n",
    "# Added for bnsl but muted for now\n",
    "e2k2ratio = widgets.Dropdown(\n",
    "    options={'1:1': 1, '1:4':4},\n",
    "    value=1,\n",
    "    description='Ratio (E2:K2)',\n",
    "    style=style\n",
    ")\n"
   ]
  },
  {
   "cell_type": "code",
   "execution_count": null,
   "metadata": {
    "extensions": {
     "jupyter_dashboards": {
      "version": 1,
      "views": {
       "grid_default": {
        "col": 0,
        "height": 2,
        "hidden": true,
        "row": 29,
        "width": 4
       },
       "report_default": {
        "hidden": true
       }
      }
     }
    }
   },
   "outputs": [],
   "source": [
    "salt = widgets.BoundedFloatText(\n",
    "    value=0.175,\n",
    "    min=0.005,\n",
    "    max=0.3,\n",
    "    step=0.005,\n",
    "    description='Salt Concentration (M):',\n",
    "    style=style\n",
    ")\n"
   ]
  },
  {
   "cell_type": "code",
   "execution_count": null,
   "metadata": {
    "extensions": {
     "jupyter_dashboards": {
      "version": 1,
      "views": {
       "grid_default": {
        "hidden": true
       },
       "report_default": {}
      }
     }
    }
   },
   "outputs": [],
   "source": [
    "imageSlider = widgets.IntSlider(\n",
    "    value=0,\n",
    "    min=0,\n",
    "    max=0,\n",
    "    step=10000,\n",
    "    description='Images',\n",
    "    style=style\n",
    ")"
   ]
  },
  {
   "cell_type": "code",
   "execution_count": null,
   "metadata": {
    "extensions": {
     "jupyter_dashboards": {
      "version": 1,
      "views": {
       "grid_default": {
        "hidden": true
       },
       "report_default": {}
      }
     }
    }
   },
   "outputs": [],
   "source": [
    "submit_str = ''\n",
    "def onToggleBtnChange(b):\n",
    "    global submit_str\n",
    "    if clustorMode.value:\n",
    "        clustorMode.icon = 'check' \n",
    "        clustorMode.button_style='success'\n",
    "        if not submit_str:\n",
    "            output_image_warning_text.layout.visibility = 'visible'\n",
    "    else:\n",
    "        clustorMode.icon = '' \n",
    "        clustorMode.button_style=''\n",
    "        if not submit_str:\n",
    "            output_image_warning_text.layout.visibility = 'hidden'\n",
    "\n",
    "'''\n",
    "clustorMode =widgets.ToggleButton(\n",
    "    value=False,\n",
    "    description='Cluster mode',\n",
    "    disabled=False,\n",
    "    button_style='', # 'success', 'info', 'warning', 'danger' or ''\n",
    "    tooltip='Simulation will run on a computing cluster when this button is turned on but you will loose the access to dynamic simulation snapshot slider.',\n",
    "    icon='',\n",
    "    style=style\n",
    ")\n",
    "'''\n",
    "            \n",
    "clustorMode =widgets.Checkbox(\n",
    "    value=False,\n",
    "    description='Cluster mode',\n",
    "    disabled=False,\n",
    "    #button_style='', # 'success', 'info', 'warning', 'danger' or ''\n",
    "    tooltip='Simulation will run on a computing cluster when this button is turned on but you will loose the access to dynamic simulation snapshot slider.',\n",
    "    icon='',\n",
    "    style=style\n",
    ")\n",
    "\n",
    "clustorMode.observe(onToggleBtnChange,'value')"
   ]
  },
  {
   "cell_type": "code",
   "execution_count": null,
   "metadata": {
    "extensions": {
     "jupyter_dashboards": {
      "version": 1,
      "views": {
       "grid_default": {
        "hidden": true
       },
       "report_default": {
        "hidden": true
       }
      }
     }
    }
   },
   "outputs": [],
   "source": [
    "label_style = \"style='background-color: #81c4fd; font-size:500; padding: 2px'\"\n",
    "label_style2 = \"style='font-size:350; padding: 2px; font-weight: bold; align: center'\"\n",
    "def make_label(name, label_style, desc=\"\",):\n",
    "    lval = '<p %s %s>%s</p>' % (desc, label_style, name)\n",
    "    return widgets.HTML(lval)\n",
    "\n",
    "plabel = make_label('Input Parameters', label_style, '')\n",
    "clabel = make_label('Computing Parameters',label_style, '')\n",
    "olabel = make_label('Output Controllers', label_style, '')\n",
    "imageSliderabout = make_label('Slide to navigate the simulation snapshots', label_style2, '')"
   ]
  },
  {
   "cell_type": "code",
   "execution_count": null,
   "metadata": {
    "extensions": {
     "jupyter_dashboards": {
      "version": 1,
      "views": {
       "grid_default": {
        "col": 0,
        "height": 6,
        "hidden": true,
        "row": 43,
        "width": 12
       },
       "report_default": {
        "hidden": false
       }
      }
     }
    }
   },
   "outputs": [],
   "source": [
    "'''\n",
    "image_html = widgets.HTML(\n",
    "    value='<img src=\"../images/overview.png\" style=\"width: 500px\"/>',\n",
    ")\n",
    "'''\n",
    "file = open(\"../images/overview.png\", \"rb\")\n",
    "image = file.read()\n",
    "image=widgets.Image(\n",
    "    value=image,\n",
    "    format='jpg',\n",
    "    width=297,\n",
    "    height=297,\n",
    ")\n",
    "\n",
    "form_items = [\n",
    "    Box([image], layout=form_item_layout)\n",
    "]\n",
    "\n",
    "mainImage = Box(form_items, layout=box_layout_image)"
   ]
  },
  {
   "cell_type": "code",
   "execution_count": null,
   "metadata": {
    "extensions": {
     "jupyter_dashboards": {
      "version": 1,
      "views": {
       "grid_default": {
        "col": 0,
        "height": 11,
        "hidden": true,
        "row": 59,
        "width": 4
       },
       "report_default": {}
      }
     }
    }
   },
   "outputs": [],
   "source": [
    "form_items = [\n",
    "    Box([plabel], layout=form_item_layout),\n",
    "    Box([e2k2ratio], layout=form_item_layout),\n",
    "    Box([salt], layout=form_item_layout)\n",
    "]\n",
    "\n",
    "form_items_computing = [\n",
    "    Box([clabel], layout=form_item_layout),\n",
    "    Box([clustorMode], layout=form_item_layout)\n",
    "]\n",
    "\n",
    "form_items_output = [\n",
    "    Box([olabel], layout=form_item_layout),\n",
    "    Box([imageSlider], layout=form_item_layout),\n",
    "    Box([imageSliderabout], layout=form_item_layout)\n",
    "]\n",
    "\n",
    "physical_para = Box(form_items, layout=box_layout_phisical)\n",
    "computing_para = Box(form_items_computing, layout=box_layout_computing)\n",
    "output_para = Box(form_items_output, layout=box_layout_output)"
   ]
  },
  {
   "cell_type": "code",
   "execution_count": null,
   "metadata": {
    "extensions": {
     "jupyter_dashboards": {
      "version": 1,
      "views": {
       "grid_default": {
        "col": 4,
        "height": 6,
        "hidden": true,
        "row": 43,
        "width": 8
       },
       "report_default": {
        "hidden": false
       }
      }
     }
    }
   },
   "outputs": [],
   "source": [
    "about=widgets.Textarea(\n",
    "    value='This app simulates assembly of two types of nanoparticles (NPs) into superstructures mediated by linkers. Two types of P22 bacteriophage VLPs (P22-E2 and P22-K2) act as the two distinct NP species with surface charge as the distinguishing feature. Users can input control parameters such as E2 : V2 ratio and ionic strength (from 0.01 M to 0.3 M) to predict the formation of NP aggregates. Outputs are structural information such as simulation snapshots. The NPs are modeled after P22 virus-like particles (VLPs) of diameter 56 nanometers, and linkers represent smaller nanoparticles (dendrimers) of 6.7 nanometer diameter. E2 VLPs(shown in red) have -1500e charge and K2 VLPs(shown in green) have -600e charge. Linker charge is fixed to 45e. Simulations are performed using LAMMPS; pre- and postprocessing are done using C++ codes. Simulation results are tested and validated using SAXS and dynamic light scattering measurements of the VLP aggregates; experiments also guide the model design. After you click Run, the application pre-processes the input parameters and loads the input script in the LAMMPS engine; this may take a couple of minutes after which the output log should appear in the Output text pane. As the output shows, the images will start to populate the \"Simulation Snapshot\" tab; the slider can be used to navigate through the images. The movie files are available for in the “Download” tab when the simulation ends.',\n",
    "    placeholder='',\n",
    "    layout={'height': '119px','width': '100%'},\n",
    "    disabled=True,\n",
    "    style = {'font_weight': '150px'}\n",
    ")\n",
    "\n",
    "form_about = [\n",
    "    Box([about], layout=form_item_layout)\n",
    "]\n",
    "\n",
    "about_text = Box(form_about, layout=box_layout_about)\n"
   ]
  },
  {
   "cell_type": "code",
   "execution_count": null,
   "metadata": {
    "extensions": {
     "jupyter_dashboards": {
      "version": 1,
      "views": {
       "grid_default": {
        "hidden": true
       },
       "report_default": {}
      }
     }
    }
   },
   "outputs": [],
   "source": [
    "def clear_All():\n",
    "    \n",
    "    localOutput.value = ''\n",
    "    submit_str= ''\n",
    "    progressBar.value=0\n",
    "    imageSlider.max=0\n",
    "    imageSlider.value=0 \n",
    "    output_image.value=imageEmptyBox\n",
    "    #movie_download.layout = pair_core_download.layout =  button_hide_layout\n",
    "    movie_download.layout = button_hide_layout\n",
    "    clustorMode.disabled = False\n",
    "    \n",
    "    if clustorMode.value:\n",
    "        output_image_warning_text.layout.visibility = 'visible'\n",
    "    else:\n",
    "        output_image_warning_text.layout.visibility = 'hidden'\n",
    "        \n",
    "    plt.figure('Pair correlation function')\n",
    "    plt.clf()  # clear old plot\n",
    "    \n",
    "    "
   ]
  },
  {
   "cell_type": "code",
   "execution_count": null,
   "metadata": {
    "extensions": {
     "jupyter_dashboards": {
      "version": 1,
      "views": {
       "grid_default": {
        "hidden": true
       },
       "report_default": {}
      }
     }
    }
   },
   "outputs": [],
   "source": [
    "def runPreprocessor(e2k2ratio, salt_value):\n",
    "    preprocessingCMD = \"./preprocessor -c \"+str(salt_value)+\" -r \"+str(e2k2ratio)+\" > preprocessor.log\"  \n",
    "    \n",
    "    try:\n",
    "        !$preprocessingCMD\n",
    "        \n",
    "    except  Exception as e:\n",
    "        localOutput.value = localOutput.value + \"Error occured during the execution of preprocessing executable\\n\"\n",
    "        sys.stderr.write('Error occured during the execution of preprocessing executable')\n",
    "        sys.stderr.write(str(e))\n",
    "        sys.exit(1)\n",
    "    \n"
   ]
  },
  {
   "cell_type": "code",
   "execution_count": null,
   "metadata": {
    "extensions": {
     "jupyter_dashboards": {
      "version": 1,
      "views": {
       "grid_default": {
        "hidden": true
       },
       "report_default": {
        "hidden": true
       }
      }
     }
    }
   },
   "outputs": [],
   "source": [
    "runFlag=False\n",
    "working_dir=\"\"\n",
    "parameter_append=\"\"\n",
    "sim_bigin=False\n",
    "build_Plots=True\n",
    "simulation_params=\"\"\n",
    "\n",
    "def callExe(s):\n",
    "    global runFlag, working_dir, parameter_append, sim_bigin, ionsplot, build_Plots, simulation_params, runName, simulationStepsToatal, e2k2ratio_value\n",
    "    global submit_str\n",
    "    if build_Plots:\n",
    "        showPlotUI()\n",
    "        build_Plots = False\n",
    "    clear_All()\n",
    "    \n",
    "    #clustorMode.disabled = True\n",
    "    \n",
    "    localOutput.value = localOutput.value + \"Simulation begins...\\n\"\n",
    "     \n",
    "    e2k2ratio_value = e2k2ratio.value\n",
    "    salt_value = salt.value\n",
    "    simulationStepsToatal = 4000000\n",
    "    total_processors = 64\n",
    "    walltime = 30\n",
    "    \n",
    "    runName='bnsl'\n",
    "    \n",
    "    #Adding standard outputs to string to be sent to output widget callback function\n",
    "    parameter_append= \"E2:K2 ratio is \"+ str(e2k2ratio_value)+\"\\n\"\n",
    "    #parameter_append= parameter_append + \"Number of Linkers is \"+ str(nLigand_value*108)+\"\\n\"\n",
    "    parameter_append= parameter_append + \"Salt Concentration (M) is \"+ str(salt_value)+\"\\n\"\n",
    "    if clustorMode.disabled == False:\n",
    "        parameter_append= parameter_append + \"requested walltime is \"+ str(walltime)+\" (mins)\\n\"\n",
    "        parameter_append= parameter_append + \"requested total processors are \"+ str(total_processors)+\"\\n\"\n",
    "    \n",
    "    \n",
    "    simulation_params=\"_%d\" % int(e2k2ratio_value)+\"_%.2f\" % float(salt_value)\n",
    "\n",
    "    shutil.rmtree('outfiles',True)\n",
    "    if not os.path.exists('outfiles'):\n",
    "        os.makedirs('outfiles')\n",
    "     \n",
    "    localOutput.value = localOutput.value + \"Preprocessing is running...\\n\"\n",
    "    \n",
    "    #preprocessing stage\n",
    "    runPreprocessor(e2k2ratio_value, salt_value)\n",
    "    \n",
    "    localOutput.value = localOutput.value + \"Preprocessing completed\\n\"\n",
    "        \n",
    "    localOutput.value = localOutput.value +  parameter_append;\n",
    "  \n",
    "\n",
    "    runFlag=True\n",
    "    sim_bigin=True\n",
    "    \n",
    "    #starting a thread for on the fly density plot\n",
    "    #t2 = Thread(target=iterative_density_plot)\n",
    "    #t2.start()\n",
    "    \n",
    "    try:\n",
    "        #rname = s.make_rname(e_np_value, e_out_value, pion_value, c_out_value, np_radius_value, np_charge_value, sim_steps_value)\n",
    "        submit_str = ''\n",
    "        if clustorMode.value:\n",
    "            submit_str = '--venue standby@brown -n '+str(total_processors)+' -N 16'+' -w '+str(walltime)+' -e OMP_NUM_THREADS=1'+' --tailStdout 1000 ' +'--inputfile '+'infiles '+'--inputfile '+'outfiles '+'lammps-31Mar17-parallel -in in.lammps'\n",
    "            #submit_str = '-n '+str(total_processors)+' -w '+str(walltime)+' -N 20'+' -e OMP_NUM_THREADS=1'+' --tailStdout 1000 ' +'--inputfile '+'outfiles '+'lammps-31Mar17-parallel -in in.lammps' \n",
    "            #submit_str = '--venue standby@rice ' + '-n 32 -w 60 -N 16'+' --tailStdout 1000 ' +'--inputfile '+'outfiles '+'lammps-31Mar17-parallel -in in.lammps'\n",
    "            localOutput.value = localOutput.value + \"LAMMPS input script designed and simulation submitted to the cluster, waiting for response...\\n\"\n",
    "        else:\n",
    "            submit_str = '--local stdbuf -o0 -e0 lmp_serial -in in.lammps'\n",
    "            localOutput.value = localOutput.value + \"LAMMPS input script designed and simulation running...\\n\"\n",
    "\n",
    "        s.run(runName, submit_str)\n",
    "        \n",
    "        time.sleep(1)\n",
    "        \n",
    "    except  Exception as e:\n",
    "        sys.stderr.write('Error occured during the execution of Lammps program')\n",
    "        sys.stderr.write(str(e))\n",
    "        sys.exit(1)\n",
    "    \n",
    "    runFlag = False\n",
    "    #t2.join()"
   ]
  },
  {
   "cell_type": "code",
   "execution_count": null,
   "metadata": {
    "extensions": {
     "jupyter_dashboards": {
      "version": 1,
      "views": {
       "grid_default": {
        "hidden": true
       },
       "report_default": {}
      }
     }
    }
   },
   "outputs": [],
   "source": [
    "def doneFunc(s, rdir):\n",
    "    global submit_str    \n",
    "    #this is a condtional variable for few things\n",
    "    submit_str = ''\n",
    "    \n",
    "    progressBar.value=int(100)\n",
    "    \n",
    "    localOutput.value = localOutput.value + \"LAMMPS simulation finished\\n\" \n",
    "    \n",
    "    submit_btn.but.disabled = True\n",
    "    clustorMode.disabled = False\n",
    "    \n",
    "    localOutput.value = localOutput.value + \"Postprocessing is running...\\n\"\n",
    "    \n",
    "    # Determine the number of particles of type1 based on e2k2ratio selected by user\n",
    "    if e2k2ratio.value == 4:\n",
    "        num_particles = 40\n",
    "    else:\n",
    "        num_particles = 50\n",
    "    \n",
    "    #postprocessing stage\n",
    "    postprocessingCMD = \"./postprocessor -x \"+str(e2k2ratio.value)+\" -N 2001 -e \"+str(num_particles)+\" > postprocessor.log\"\n",
    "    \n",
    "    try:\n",
    "        !$postprocessingCMD\n",
    "        \n",
    "    except  Exception as e:\n",
    "        localOutput.value = localOutput.value + \"Error occured during the execution of postprocessing executable\\n\"\n",
    "        sys.stderr.write('Error occured during the execution of postprocessing executable')\n",
    "        sys.stderr.write(str(e))\n",
    "        sys.exit(1)\n",
    "        \n",
    "    localOutput.value = localOutput.value + \"Postprocessing is finished\\n\"\n",
    "    \n",
    "    #  Plotting the result\n",
    "    plot_data()\n",
    "    \n",
    "    localOutput.value = localOutput.value + \"Simulation ended\\n\"\n",
    "    \n",
    "    submit_btn.but.disabled = False\n",
    "    \n",
    "    #image slider fully ready\n",
    "    imageSlider.max=int(simulationStepsToatal/imageSlider.step)*imageSlider.step\n",
    "    imageSlider.value=int(simulationStepsToatal/imageSlider.step)*imageSlider.step\n",
    "    \n",
    "    movie_download.layout = pair_core_download.layout = button_show_layout\n",
    "    "
   ]
  },
  {
   "cell_type": "code",
   "execution_count": null,
   "metadata": {
    "extensions": {
     "jupyter_dashboards": {
      "version": 1,
      "views": {
       "grid_default": {
        "hidden": true
       },
       "report_default": {
        "hidden": true
       }
      }
     }
    }
   },
   "outputs": [],
   "source": [
    "# after the run finished, optionally do something\n",
    "# with the output\n",
    "#def plot_data(s, rdir):\n",
    "def plot_data(): \n",
    "    \n",
    "    global build_Plots\n",
    "    if build_Plots:\n",
    "        showPlotUI()\n",
    "        build_Plots = False \n",
    "    \n",
    "    #We ignore rdir because submit puts non-parametric runs in the current directory\n",
    "    # When caching is enabled, they get put in a chached directory and rdit is always used. \n",
    "    #wait for 2 seconds before plotting errorBars.\n",
    "    time.sleep(2)  \n",
    "    plt.figure('Pair correlation function')\n",
    "    plt.clf()  # clear old plot\n",
    "    plt.title('NP-NP Pair correlation function')\n",
    "    plt.xlabel('Distance (in units of NP diameter)', fontsize=10)\n",
    "    plt.ylabel('g(r)', fontsize=10)\n",
    "    \n",
    "    # our simulation writes to outfiles -> density_profile.dat\n",
    "    try:\n",
    "        density_profile = np.loadtxt(working_dir + 'outfiles/gr_EE_dr=0.005.out')\n",
    "    except:\n",
    "        sys.stderr.write('Can not find the pair correlation results file')\n",
    "        sys.exit(1)\n",
    "    #print(density_profile)    \n",
    "    x = density_profile[:,0]\n",
    "    # droping data above 4.3 in x dim.\n",
    "    #x = numpy.select([ x < 4.3 ],x)\n",
    "    y = density_profile[:x.size,1]\n",
    "    #yrr = density_profile[:,2]\n",
    "    #plt.errorbar(x,y,xerr=0.0, yerr=yrr, c='b', ecolor='r', capsize=2)\n",
    "    plt.xlim([0, 5])\n",
    "    plt.plot(x,y)\n",
    "    plt.show()\n",
    "    "
   ]
  },
  {
   "cell_type": "code",
   "execution_count": null,
   "metadata": {
    "extensions": {
     "jupyter_dashboards": {
      "version": 1,
      "views": {
       "grid_default": {
        "hidden": true
       },
       "report_default": {}
      }
     }
    }
   },
   "outputs": [],
   "source": [
    "in_wrapper_progress = False\n",
    "saved_data = \"\"\n",
    "saved_data_enery = \"\"\n",
    "saved_data_ions_pos = \"\"\n",
    "stepNumber = 0\n",
    "\n",
    "def stdoutput_handler(buffer):\n",
    "    global in_wrapper_progress, saved_data, parameter_append, sim_bigin, stepNumber, saved_data_enery, saved_data_ions_pos\n",
    "    output = []\n",
    "\n",
    "    #return buffer\n",
    "\n",
    "    if sim_bigin:\n",
    "        #output.append(parameter_append)\n",
    "        sim_bigin = False\n",
    "   \n",
    "    data = buffer.split('\\n')\n",
    "    \n",
    "    last = len(data) - 1\n",
    "    \n",
    "    for i, line in enumerate(data):\n",
    "        \n",
    "        output.append(line)\n",
    "        \n",
    "        if line.startswith('Loop time of '):\n",
    "            in_wrapper_progress = False\n",
    "            continue\n",
    "        \n",
    "        if in_wrapper_progress:\n",
    "            number = line.split()\n",
    "            if number:\n",
    "                if number[0].isdigit():\n",
    "                    #print(number[0])\n",
    "                    percent = float(number[0])/simulationStepsToatal*100\n",
    "                    progressBar.value=int(percent)\n",
    "                    # This adjust the image slider dynamically\n",
    "                    # dynamic update only happens for local VM run\n",
    "                    if submit_str.startswith('--local '):\n",
    "                        if(int(number[0])%imageSlider.step == 0):\n",
    "                            imageSlider.max=number[0]\n",
    "                            imageSlider.value=number[0]            \n",
    "            continue\n",
    "        #Step Temp TotEng KinEng PotEng Volume Press\n",
    "        if line.startswith('Step Temp TotEng KinEng'):\n",
    "            in_wrapper_progress = True\n",
    "            \n",
    "            \n",
    "    reduced_buffer = '\\n'.join(output)\n",
    "    \n",
    "    #appending new line at the end\n",
    "    if reduced_buffer:\n",
    "        if reduced_buffer[-1] != '\\n':\n",
    "            reduced_buffer = reduced_buffer + '\\n'\n",
    "    \n",
    "    \n",
    "    return reduced_buffer"
   ]
  },
  {
   "cell_type": "code",
   "execution_count": null,
   "metadata": {
    "extensions": {
     "jupyter_dashboards": {
      "version": 1,
      "views": {
       "grid_default": {
        "hidden": true
       },
       "report_default": {}
      }
     }
    }
   },
   "outputs": [],
   "source": [
    "#button_style = \"style='background-color: #81c4fd; font-size:500; padding: 4px; -webkit-appearance: button; -moz-appearance: button; appearance: button; text-decoration: none; color: initial;'\"\n",
    "\n",
    "def make_downloadBtn(downFilename=\"\", downloadURL=\"\", displayText=\"\"):\n",
    "    bval = \"<a download='%s' href='%s'><button class='p-Widget jupyter-widgets jupyter-button widget-button mod-info'>%s</button></a>\" % (downFilename, downloadURL, displayText)\n",
    "    return widgets.HTML(bval)\n",
    "\n",
    "#from IPython.display import FileLink, FileLinks\n",
    "#FileLinks('outfiles')\n",
    "#FileLinks('data')"
   ]
  },
  {
   "cell_type": "code",
   "execution_count": null,
   "metadata": {
    "extensions": {
     "jupyter_dashboards": {
      "version": 1,
      "views": {
       "grid_default": {
        "col": 0,
        "height": 59,
        "hidden": true,
        "row": 105,
        "width": 12
       },
       "report_default": {
        "hidden": false
       }
      }
     }
    },
    "scrolled": false
   },
   "outputs": [],
   "source": [
    "%%capture\n",
    "\n",
    "tab_layout=Layout(\n",
    "    width='100%',\n",
    "    height='588px',\n",
    "    justify_content='space-between',\n",
    ")\n",
    "\n",
    "# we want the plot to go here, so create an empty one initially\n",
    "#create tabs\n",
    "\n",
    "\n",
    "figsize_tup=(8.60, 5.05)\n",
    "\n",
    "plt.ioff() #LINE ADDED, Interactive plot blur fix\n",
    "\n",
    "figure_density_pos = plt.figure(num='Pair correlation function', figsize=figsize_tup)\n",
    "out_desnity_pos = Output(layout=tab_layout)\n",
    "\n",
    "plt.ion() #LINE ADDED\n",
    "\n",
    "file = open(\"../images/image.emptybox.jpg\", \"rb\")\n",
    "imageEmptyBox = file.read()\n",
    "\n",
    "output_image=widgets.Image(\n",
    "    format='jpg',\n",
    "    width=584,\n",
    "    height=584,\n",
    "    value=imageEmptyBox\n",
    ")\n",
    "#out_output_image = Output(layout=tab_layout)\n",
    "\n",
    "\n",
    "output_image_layout=Layout(\n",
    "    display='flex',\n",
    "    flex_flow='row',\n",
    "    #border='solid 2px',\n",
    "    align_items='stretch',\n",
    "    margin = '0px 0px 0px 130px' #top, right, bottom and left\n",
    ")\n",
    "\n",
    "box_layout_warning_text=Layout(\n",
    "    display='flex',\n",
    "    flex_flow='row',\n",
    "    #border='solid 1px',\n",
    "    align_items='stretch',\n",
    "    padding='5px',\n",
    "    width='140px',\n",
    "    visibility = 'hidden'\n",
    "    #height='136px'\n",
    ")\n",
    "\n",
    "#label_style3 = \"style='background-color: #eeeeee; color: #388e3c; font-size:350; padding: 2px; font-weight: bold; align: center'\"\n",
    "label_style3 = \"style='background-color: #eeeeee; font-size:350; padding: 2px; font-weight: bold; align: center'\"\n",
    "output_image_warning_text = make_label('Cluster mode is on! You will lose access to the dynamic simulation snapshot data. Snapshot data will be available at the end of simulation.', label_style3, '')\n",
    "\n",
    "form_output_image_sec = [\n",
    "    Box([output_image], layout=output_image_layout),\n",
    "    Box([output_image_warning_text], layout=box_layout_warning_text)\n",
    "]\n",
    "output_image_section = Box(form_output_image_sec, layout=tab_layout)\n",
    "\n",
    "#data download tab\n",
    "movie_download = make_downloadBtn(downFilename=\"movie.xyz\", downloadURL=\"outfiles/dump.melt\", displayText=\"Movie\")\n",
    "pair_core_download = make_downloadBtn(downFilename=\"Pair_correlation_data.out\", downloadURL=\"outfiles/gr_EE_dr=0.005.out\", displayText=\"Pair correlation data\")\n",
    "\n",
    "movie_download.layout = pair_core_download.layout =  button_hide_layout\n",
    "\n",
    "box_layout_outputs=Layout(\n",
    "    display='flex',\n",
    "    flex_flow='column',\n",
    "    align_items='stretch',\n",
    "    padding='5px'\n",
    ")\n",
    "form_output_content = [\n",
    "    Box([movie_download], layout=box_layout_outputs),\n",
    "    Box([pair_core_download], layout=box_layout_outputs)]\n",
    "\n",
    "downloadMovieSec = Box(form_output_content, layout=tab_layout)\n",
    "\n"
   ]
  },
  {
   "cell_type": "code",
   "execution_count": null,
   "metadata": {
    "extensions": {
     "jupyter_dashboards": {
      "version": 1,
      "views": {
       "grid_default": {
        "hidden": true
       },
       "report_default": {}
      }
     }
    }
   },
   "outputs": [],
   "source": [
    "def onSliderChange(b):\n",
    "    \n",
    "    value = imageSlider.value\n",
    "    valueText = str(value)\n",
    "    if value==0:\n",
    "        valueText = \"000\"\n",
    "    \n",
    "    fileName=\"image.\"+valueText+\".jpg\"\n",
    "    fileName=\"outfiles/\"+fileName;\n",
    "    try:\n",
    "        file = open(fileName, \"rb\")\n",
    "        selectedImage = file.read()\n",
    "        output_image.value=selectedImage\n",
    "    except:\n",
    "        sys.stderr.write('Image file is not there yet.')\n",
    "       \n",
    "    \n",
    "imageSlider.observe(onSliderChange, names='value')"
   ]
  },
  {
   "cell_type": "code",
   "execution_count": null,
   "metadata": {
    "extensions": {
     "jupyter_dashboards": {
      "version": 1,
      "views": {
       "grid_default": {
        "hidden": true
       },
       "report_default": {}
      }
     }
    }
   },
   "outputs": [],
   "source": [
    "#tabChange detection and plot data incase automatically not drawn\n",
    "def onTabChange(b):\n",
    "    global build_Plots\n",
    "    if os.path.isfile('outfiles/gr_EE_dr=0.005.out') and not build_Plots:\n",
    "        plot_data()"
   ]
  },
  {
   "cell_type": "code",
   "execution_count": null,
   "metadata": {
    "extensions": {
     "jupyter_dashboards": {
      "version": 1,
      "views": {
       "grid_default": {
        "col": 4,
        "height": 27,
        "hidden": true,
        "row": 49,
        "width": 8
       },
       "report_default": {}
      }
     }
    },
    "scrolled": false
   },
   "outputs": [],
   "source": [
    "tab_contents = ['Pair Correlation', 'Simulation Snapshot', 'Downloads']\n",
    "children = [out_desnity_pos, output_image_section, downloadMovieSec]\n",
    "tabSpace = widgets.Tab()\n",
    "tabSpace.children = children\n",
    "for i in range(len(children)):\n",
    "    tabSpace.set_title(i, str(tab_contents[i]))\n",
    "tabSpace.selected_index = 1\n",
    "\n",
    "tabSpace.observe(onTabChange, names='selected_index')\n",
    "\n",
    "form_about = [\n",
    "    Box([tabSpace], layout=form_item_layout_tab)\n",
    "]\n",
    "\n",
    "tab = Box(form_about, layout=box_layout_tabs)"
   ]
  },
  {
   "cell_type": "code",
   "execution_count": null,
   "metadata": {
    "extensions": {
     "jupyter_dashboards": {
      "version": 1,
      "views": {
       "grid_default": {
        "hidden": true
       },
       "report_default": {}
      }
     }
    }
   },
   "outputs": [],
   "source": [
    "def showPlotUI():\n",
    "    with out_desnity_pos:\n",
    "        display(figure_density_pos, layout=tab_layout)\n",
    "    #with out_output_image:\n",
    "    #    display(output_image, layout=tab_layout)"
   ]
  },
  {
   "cell_type": "code",
   "execution_count": null,
   "metadata": {
    "extensions": {
     "jupyter_dashboards": {
      "version": 1,
      "views": {
       "grid_default": {
        "col": null,
        "height": 37,
        "hidden": true,
        "row": 105,
        "width": null
       },
       "report_default": {
        "hidden": false
       }
      }
     }
    }
   },
   "outputs": [],
   "source": [
    "form_item_layout_output = Layout(\n",
    "    display='flex',\n",
    "    flex_flow='column',\n",
    "    justify_content='space-between',\n",
    "    padding='4px'\n",
    ")\n",
    "\n",
    "form_item_layout_run_btn = Layout(\n",
    "    display='flex',\n",
    "    flex_flow='column',\n",
    "    justify_content='space-between',\n",
    "    padding='4px'\n",
    ")\n",
    "\n",
    "#Submit(start_func=callExe, done_func=plot_data, cachename='SubmitTest1')\n",
    "submit_btn=Submit(start_func=callExe, done_func=doneFunc, outcb=stdoutput_handler)\n",
    "\n",
    "submit_btn.acc.set_title(0, \"LAMMPS Output\")\n",
    "submit_btn.w.layout = form_item_layout_run_btn\n",
    "#submit_btn.acc.layout = form_item_layout_output\n",
    "localOutput = widgets.Textarea(layout={'width': '100%', 'height': '250px'})\n",
    "localOutputWidget = widgets.Accordion(children=[localOutput],layout=form_item_layout_output)\n",
    "localOutputWidget.set_title(0, \"Output\")\n",
    "localOutputWidget.selected_index = None\n",
    "localOutput.value = \"\"\n"
   ]
  },
  {
   "cell_type": "code",
   "execution_count": null,
   "metadata": {
    "extensions": {
     "jupyter_dashboards": {
      "version": 1,
      "views": {
       "grid_default": {
        "col": 0,
        "height": 2,
        "hidden": true,
        "row": 70,
        "width": 4
       },
       "report_default": {}
      }
     }
    }
   },
   "outputs": [],
   "source": [
    "progressBar=widgets.IntProgress(\n",
    "    value=0,\n",
    "    min=0,\n",
    "    max=100,\n",
    "    step=1,\n",
    "    description='Progress:',\n",
    "    bar_style='', # 'success', 'info', 'warning', 'danger' or ''\n",
    "    orientation='horizontal',\n",
    "    layout={'width': '100%'},\n",
    "    style=style\n",
    ")\n",
    "\n",
    "form_items_progress = [\n",
    "    Box([progressBar], layout=form_item_layout)\n",
    "]\n",
    "\n",
    "progressBar_Ele = Box(form_items_progress, layout=box_layout_progress)"
   ]
  },
  {
   "cell_type": "code",
   "execution_count": null,
   "metadata": {
    "extensions": {
     "jupyter_dashboards": {
      "version": 1,
      "views": {
       "grid_default": {
        "col": 0,
        "height": 29,
        "hidden": true,
        "row": 76,
        "width": 12
       },
       "report_default": {}
      }
     }
    },
    "scrolled": false
   },
   "outputs": [],
   "source": [
    "app_height='840px'\n",
    "\n",
    "form_item_layout = Layout(\n",
    "    display='flex',\n",
    "    flex_flow='row',\n",
    "    justify_content='space-between',\n",
    "    padding='5px'\n",
    ")\n",
    "\n",
    "box_layout_column_left=Layout(\n",
    "    display='flex',\n",
    "    flex_flow='column',\n",
    "    #border='solid 2px',\n",
    "    align_items='stretch',\n",
    "    width=left_column,\n",
    "    height=app_height\n",
    "    #height='840px'\n",
    ")\n",
    "box_layout_column_right=Layout(\n",
    "    display='flex',\n",
    "    flex_flow='column',\n",
    "    #border='solid 2px',\n",
    "    align_items='stretch',\n",
    "    width=right_column,\n",
    "    height=app_height\n",
    "    #height='840px'\n",
    ")\n",
    "\n",
    "box_layout=Layout(\n",
    "    display='flex',\n",
    "    flex_flow='row',\n",
    "    #border='solid 2px',\n",
    "    align_items='stretch',\n",
    "    width=app_width,\n",
    "    #padding='5px',\n",
    "    height=app_height\n",
    ")\n",
    "\n",
    "box_layout_rows=Layout(\n",
    "    display='flex',\n",
    "    flex_flow='column',\n",
    "    #border='solid 2px',\n",
    "    align_items='stretch',\n",
    "    width=app_width,\n",
    "    #padding='5px',\n",
    "    height='1900px',\n",
    "    #overflow_x='scroll',\n",
    "    #overflow_y='scroll'\n",
    ")\n",
    "\n",
    "\n",
    "gui_left = [\n",
    "    Box([mainImage], layout=form_item_layout),\n",
    "    Box([physical_para], layout=form_item_layout),\n",
    "    Box([computing_para], layout=form_item_layout),\n",
    "    Box([progressBar_Ele], layout=form_item_layout),\n",
    "    Box([output_para], layout=form_item_layout)\n",
    "]\n",
    "\n",
    "gui_right = [\n",
    "    Box([about_text], layout=form_item_layout),\n",
    "    Box([tab], layout=form_item_layout)\n",
    "]\n",
    "\n",
    "form_left = Box(gui_left, layout=box_layout_column_left)\n",
    "form_right = Box(gui_right, layout=box_layout_column_right)\n",
    "\n",
    "gui_upper = [\n",
    "    Box([form_left], layout=box_layout_column_left),\n",
    "    Box([form_right], layout=box_layout_column_right)\n",
    "]\n",
    "\n",
    "form = Box(gui_upper, layout=box_layout)\n",
    "\n",
    "gui = widgets.VBox([form, localOutputWidget, submit_btn.w],layout=box_layout_rows)\n"
   ]
  },
  {
   "cell_type": "code",
   "execution_count": null,
   "metadata": {
    "extensions": {
     "jupyter_dashboards": {
      "version": 1,
      "views": {
       "grid_default": {
        "col": 0,
        "height": 78,
        "hidden": false,
        "row": 0,
        "width": 12
       },
       "report_default": {}
      }
     }
    },
    "scrolled": false
   },
   "outputs": [],
   "source": [
    "gui"
   ]
  }
 ],
 "metadata": {
  "extensions": {
   "jupyter_dashboards": {
    "activeView": "grid_default",
    "version": 1,
    "views": {
     "grid_default": {
      "cellMargin": 10,
      "defaultCellHeight": 20,
      "maxColumns": 12,
      "name": "grid",
      "type": "grid"
     },
     "report_default": {
      "name": "report",
      "type": "report"
     }
    }
   }
  },
  "kernelspec": {
   "display_name": "Python 3",
   "language": "python",
   "name": "python3"
  },
  "language_info": {
   "codemirror_mode": {
    "name": "ipython",
    "version": 3
   },
   "file_extension": ".py",
   "mimetype": "text/x-python",
   "name": "python",
   "nbconvert_exporter": "python",
   "pygments_lexer": "ipython3",
   "version": "3.6.5"
  },
  "tool": false,
  "widgets": {
   "application/vnd.jupyter.widget-state+json": {
    "state": {
     "0928bdb3f16145de8f3bdc629c434672": {
      "model_module": "@jupyter-widgets/base",
      "model_module_version": "1.0.0",
      "model_name": "LayoutModel",
      "state": {}
     },
     "113232b6f0b0489c857571e43b2fc7c0": {
      "model_module": "@jupyter-widgets/controls",
      "model_module_version": "1.0.0",
      "model_name": "HTMLModel",
      "state": {
       "layout": "IPY_MODEL_33445fc625f34d0bbeeddd4c97736d58",
       "style": "IPY_MODEL_6d300a697da3458c80bec3d9f5dd9aee",
       "value": "<img src=\"imageV5.jpg\" style=\"width: 300px\"/>"
      }
     },
     "17e316ab391d438ea2d65e76f4767f5e": {
      "model_module": "@jupyter-widgets/base",
      "model_module_version": "1.0.0",
      "model_name": "LayoutModel",
      "state": {}
     },
     "1b37f86d44a84a748bf0f856f082f995": {
      "model_module": "@jupyter-widgets/controls",
      "model_module_version": "1.0.0",
      "model_name": "DropdownModel",
      "state": {
       "_options_labels": [
        "1(monovalent)",
        "2(divalent)",
        "3(trivalent)"
       ],
       "description": "Positive Ion Valency (z)",
       "index": 2,
       "layout": "IPY_MODEL_0928bdb3f16145de8f3bdc629c434672",
       "style": "IPY_MODEL_42bfc62f7b0a40b28042c92ea51358b6"
      }
     },
     "1c1ce5a816634e95ba4fd9c260a0e035": {
      "model_module": "@jupyter-widgets/controls",
      "model_module_version": "1.0.0",
      "model_name": "BoundedFloatTextModel",
      "state": {
       "description": "Ion Diameter (nm):",
       "layout": "IPY_MODEL_b75073530edf4a96b67df16319442848",
       "max": 0.8,
       "min": 0.5,
       "step": 0.001,
       "style": "IPY_MODEL_cba8a7396c344ef49134b9b3b3577ef5",
       "value": 0.714
      }
     },
     "24a70f35d36b4d4eb6b8faef61e818e1": {
      "model_module": "@jupyter-widgets/controls",
      "model_module_version": "1.0.0",
      "model_name": "BoundedFloatTextModel",
      "state": {
       "description": "Salt Concentration (c in M):",
       "layout": "IPY_MODEL_2fedeb6b81c543169901f6f01ed839cd",
       "max": 0.9,
       "min": 0.3,
       "style": "IPY_MODEL_45d6aa209f234a8a9a5d856d1b8c4894",
       "value": 0.7
      }
     },
     "2fedeb6b81c543169901f6f01ed839cd": {
      "model_module": "@jupyter-widgets/base",
      "model_module_version": "1.0.0",
      "model_name": "LayoutModel",
      "state": {}
     },
     "33445fc625f34d0bbeeddd4c97736d58": {
      "model_module": "@jupyter-widgets/base",
      "model_module_version": "1.0.0",
      "model_name": "LayoutModel",
      "state": {}
     },
     "36d5fefc93e84ab081d80ce41001de6f": {
      "model_module": "@jupyter-widgets/controls",
      "model_module_version": "1.0.0",
      "model_name": "ButtonModel",
      "state": {
       "description": "Simulate",
       "layout": "IPY_MODEL_f4cbb854239940da8e36bc8f9611fd13",
       "style": "IPY_MODEL_90d2800131be4e46b2b415fae5cc3976"
      }
     },
     "421f485f7df44b158c5ebc2cead2e4fc": {
      "model_module": "@jupyter-widgets/base",
      "model_module_version": "1.0.0",
      "model_name": "LayoutModel",
      "state": {}
     },
     "42bfc62f7b0a40b28042c92ea51358b6": {
      "model_module": "@jupyter-widgets/controls",
      "model_module_version": "1.0.0",
      "model_name": "DescriptionStyleModel",
      "state": {
       "description_width": "initial"
      }
     },
     "45d6aa209f234a8a9a5d856d1b8c4894": {
      "model_module": "@jupyter-widgets/controls",
      "model_module_version": "1.0.0",
      "model_name": "DescriptionStyleModel",
      "state": {
       "description_width": "initial"
      }
     },
     "45d97dd36250486787312d12a1a0eaf2": {
      "model_module": "@jupyter-widgets/controls",
      "model_module_version": "1.0.0",
      "model_name": "BoundedIntTextModel",
      "state": {
       "description": "Simulation Steps:",
       "layout": "IPY_MODEL_bf0216a2f8b24c489de53ab167969b49",
       "max": 5000000,
       "min": 20000,
       "step": 10000,
       "style": "IPY_MODEL_e4131453ffbf4876acdf9652cdb5b893",
       "value": 20000
      }
     },
     "520b6eb96ab54cd9a7c50b7bd2960207": {
      "model_module": "@jupyter-widgets/controls",
      "model_module_version": "1.0.0",
      "model_name": "DescriptionStyleModel",
      "state": {
       "description_width": "initial"
      }
     },
     "5b8456ddd09d48d8b782d04c0f5a8666": {
      "model_module": "@jupyter-widgets/controls",
      "model_module_version": "1.0.0",
      "model_name": "DescriptionStyleModel",
      "state": {
       "description_width": "initial"
      }
     },
     "6b49ad221a4f4738b7967d0195642151": {
      "model_module": "@jupyter-widgets/controls",
      "model_module_version": "1.0.0",
      "model_name": "BoundedFloatTextModel",
      "state": {
       "description": "Confinement Length (nm):",
       "layout": "IPY_MODEL_17e316ab391d438ea2d65e76f4767f5e",
       "max": 4,
       "min": 2,
       "style": "IPY_MODEL_747d7d8031df4ff984c508e9da864b35",
       "value": 3
      }
     },
     "6d300a697da3458c80bec3d9f5dd9aee": {
      "model_module": "@jupyter-widgets/controls",
      "model_module_version": "1.0.0",
      "model_name": "DescriptionStyleModel",
      "state": {
       "description_width": ""
      }
     },
     "73d6a9e62f6d40938e21e2c7fd5daf6a": {
      "model_module": "@jupyter-widgets/base",
      "model_module_version": "1.0.0",
      "model_name": "LayoutModel",
      "state": {}
     },
     "747d7d8031df4ff984c508e9da864b35": {
      "model_module": "@jupyter-widgets/controls",
      "model_module_version": "1.0.0",
      "model_name": "DescriptionStyleModel",
      "state": {
       "description_width": "initial"
      }
     },
     "75176e8e3f694980b4e2156ab5fdba16": {
      "model_module": "@jupyter-widgets/base",
      "model_module_version": "1.0.0",
      "model_name": "LayoutModel",
      "state": {}
     },
     "76459a9affde44d0a9daa29363008e4a": {
      "model_module": "@jupyter-widgets/controls",
      "model_module_version": "1.0.0",
      "model_name": "VBoxModel",
      "state": {
       "children": [
        "IPY_MODEL_fa7df53473e2422e9184a389817fa28a",
        "IPY_MODEL_24a70f35d36b4d4eb6b8faef61e818e1",
        "IPY_MODEL_1b37f86d44a84a748bf0f856f082f995",
        "IPY_MODEL_aaaf4ee3198948a28c188b9237d15a9f",
        "IPY_MODEL_6b49ad221a4f4738b7967d0195642151",
        "IPY_MODEL_1c1ce5a816634e95ba4fd9c260a0e035",
        "IPY_MODEL_8d645f6477254c368de96a816ed5e9f1",
        "IPY_MODEL_45d97dd36250486787312d12a1a0eaf2",
        "IPY_MODEL_113232b6f0b0489c857571e43b2fc7c0",
        "IPY_MODEL_36d5fefc93e84ab081d80ce41001de6f"
       ],
       "layout": "IPY_MODEL_dcca354f544646418d0eeb48fd1b5a9e"
      }
     },
     "8d645f6477254c368de96a816ed5e9f1": {
      "model_module": "@jupyter-widgets/controls",
      "model_module_version": "1.0.0",
      "model_name": "HTMLModel",
      "state": {
       "layout": "IPY_MODEL_421f485f7df44b158c5ebc2cead2e4fc",
       "style": "IPY_MODEL_de576513a12147e8bc083aeec4971950",
       "value": "<p   style='background-color: #DCDCDC; font-size:200; padding: 5px'>Computing</p>"
      }
     },
     "90d2800131be4e46b2b415fae5cc3976": {
      "model_module": "@jupyter-widgets/controls",
      "model_module_version": "1.0.0",
      "model_name": "ButtonStyleModel",
      "state": {}
     },
     "aaaf4ee3198948a28c188b9237d15a9f": {
      "model_module": "@jupyter-widgets/controls",
      "model_module_version": "1.0.0",
      "model_name": "DropdownModel",
      "state": {
       "_options_labels": [
        "-1",
        "-2",
        "-3"
       ],
       "description": "Negative Ion Valency",
       "index": 0,
       "layout": "IPY_MODEL_75176e8e3f694980b4e2156ab5fdba16",
       "style": "IPY_MODEL_520b6eb96ab54cd9a7c50b7bd2960207"
      }
     },
     "b75073530edf4a96b67df16319442848": {
      "model_module": "@jupyter-widgets/base",
      "model_module_version": "1.0.0",
      "model_name": "LayoutModel",
      "state": {}
     },
     "b9eaabc9eb4144fc82a2c63b9ef58541": {
      "model_module": "@jupyter-widgets/controls",
      "model_module_version": "1.0.0",
      "model_name": "DropdownModel",
      "state": {
       "_options_labels": [
        "1(monovalent)",
        "2(divalent)",
        "3(trivalent)"
       ],
       "description": "Positive Ion Valency (z)",
       "index": 0,
       "layout": "IPY_MODEL_c9aa90d11bec44f4aa17ca4467b7ff64",
       "style": "IPY_MODEL_5b8456ddd09d48d8b782d04c0f5a8666"
      }
     },
     "bf0216a2f8b24c489de53ab167969b49": {
      "model_module": "@jupyter-widgets/base",
      "model_module_version": "1.0.0",
      "model_name": "LayoutModel",
      "state": {}
     },
     "c9aa90d11bec44f4aa17ca4467b7ff64": {
      "model_module": "@jupyter-widgets/base",
      "model_module_version": "1.0.0",
      "model_name": "LayoutModel",
      "state": {}
     },
     "cba8a7396c344ef49134b9b3b3577ef5": {
      "model_module": "@jupyter-widgets/controls",
      "model_module_version": "1.0.0",
      "model_name": "DescriptionStyleModel",
      "state": {
       "description_width": "initial"
      }
     },
     "dcca354f544646418d0eeb48fd1b5a9e": {
      "model_module": "@jupyter-widgets/base",
      "model_module_version": "1.0.0",
      "model_name": "LayoutModel",
      "state": {}
     },
     "de576513a12147e8bc083aeec4971950": {
      "model_module": "@jupyter-widgets/controls",
      "model_module_version": "1.0.0",
      "model_name": "DescriptionStyleModel",
      "state": {
       "description_width": ""
      }
     },
     "e4131453ffbf4876acdf9652cdb5b893": {
      "model_module": "@jupyter-widgets/controls",
      "model_module_version": "1.0.0",
      "model_name": "DescriptionStyleModel",
      "state": {
       "description_width": "initial"
      }
     },
     "eba521d82a8f43bd996a3598254ea209": {
      "model_module": "@jupyter-widgets/controls",
      "model_module_version": "1.0.0",
      "model_name": "DescriptionStyleModel",
      "state": {
       "description_width": ""
      }
     },
     "f4cbb854239940da8e36bc8f9611fd13": {
      "model_module": "@jupyter-widgets/base",
      "model_module_version": "1.0.0",
      "model_name": "LayoutModel",
      "state": {}
     },
     "fa7df53473e2422e9184a389817fa28a": {
      "model_module": "@jupyter-widgets/controls",
      "model_module_version": "1.0.0",
      "model_name": "HTMLModel",
      "state": {
       "layout": "IPY_MODEL_73d6a9e62f6d40938e21e2c7fd5daf6a",
       "style": "IPY_MODEL_eba521d82a8f43bd996a3598254ea209",
       "value": "<p   style='background-color: #DCDCDC; font-size:200; padding: 5px'>Physical</p>"
      }
     }
    },
    "version_major": 2,
    "version_minor": 0
   }
  }
 },
 "nbformat": 4,
 "nbformat_minor": 2
}
